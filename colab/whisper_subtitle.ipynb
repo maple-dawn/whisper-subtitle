{
  "nbformat": 4,
  "nbformat_minor": 0,
  "metadata": {
    "colab": {
      "provenance": [],
      "authorship_tag": "ABX9TyMPu5LOYN2xAlf8JO2xEAMH",
      "include_colab_link": true
    },
    "kernelspec": {
      "name": "python3",
      "display_name": "Python 3"
    },
    "language_info": {
      "name": "python"
    }
  },
  "cells": [
    {
      "cell_type": "markdown",
      "metadata": {
        "id": "view-in-github",
        "colab_type": "text"
      },
      "source": [
        "<a href=\"https://colab.research.google.com/github/maple-dawn/whisper-subtitle/blob/main/colab/whisper_subtitle.ipynb\" target=\"_parent\"><img src=\"https://colab.research.google.com/assets/colab-badge.svg\" alt=\"Open In Colab\"/></a>"
      ]
    },
    {
      "cell_type": "code",
      "source": [
        "!pip install openai\n",
        "import openai\n",
        "\n",
        "\n",
        "openai.api_key = 'YOUR_API_KEY'\n",
        "model_id = 'whisper-1'\n",
        "media_file = open(\"./content/test-audio.m4a\", \"rb\")\n",
        "\n",
        "transcript = openai.Audio.transcribe(\n",
        "    file=media_file,\n",
        "    model=\"whisper-1\",\n",
        "    response_format=\"srt\",\n",
        "    prompt='This is the audio of a youtube video, converted into simplified Chinese subtitles'\n",
        ")\n",
        "\n",
        "# 打开文件，使用 'w' 模式表示写入（如果文件不存在则创建一个新文件）\n",
        "file = open(\"./content/mySubtitle.srt\", \"w\")\n",
        "\n",
        "# 写入文本内容\n",
        "file.write(transcript)\n",
        "\n",
        "# 关闭文件\n",
        "file.close()\n",
        "\n",
        "print(\"文本已成功写入文件。\")"
      ],
      "metadata": {
        "id": "Jp3FAzbV6IIB"
      },
      "execution_count": null,
      "outputs": []
    }
  ]
}